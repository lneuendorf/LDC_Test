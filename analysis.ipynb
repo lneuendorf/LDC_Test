{
 "cells": [
  {
   "cell_type": "markdown",
   "id": "3b92a6d9",
   "metadata": {},
   "source": [
    "# 1. Import Libraries"
   ]
  },
  {
   "cell_type": "code",
   "execution_count": null,
   "id": "93f0e6ff",
   "metadata": {},
   "outputs": [],
   "source": [
    "import sqlite3\n",
    "import pandas as pd"
   ]
  },
  {
   "cell_type": "markdown",
   "id": "33d6d2e7",
   "metadata": {},
   "source": [
    "# 2. Read in the Data Tables"
   ]
  },
  {
   "cell_type": "code",
   "execution_count": 23,
   "id": "d84b1c5c",
   "metadata": {},
   "outputs": [],
   "source": [
    "# Connect to the sqlite database and read the tables into pandas dataframe objects\n",
    "conn = sqlite3.connect('coffee.db')\n",
    "cursor = conn.cursor()\n",
    "\n",
    "snd_tbl_query = \"SELECT * FROM SND\"\n",
    "coffee_type_tbl_query = \"SELECT * FROM coffee_type\"\n",
    "market_tbl_query = \"SELECT * FROM market\"\n",
    "price_tbl_query = \"SELECT * FROM price\"\n",
    "\n",
    "df_snd = pd.read_sql_query(snd_tbl_query, conn)\n",
    "df_coffee_type = pd.read_sql_query(coffee_type_tbl_query, conn)\n",
    "df_market = pd.read_sql_query(market_tbl_query, conn)\n",
    "df_price = pd.read_sql_query(price_tbl_query, conn)\n",
    "\n",
    "conn.close()"
   ]
  },
  {
   "cell_type": "code",
   "execution_count": 35,
   "id": "18297c46",
   "metadata": {},
   "outputs": [],
   "source": [
    "# Convert date columns from 'object' type to 'datetime64' type\n",
    "df_snd['date'] = pd.to_datetime(df_snd['date'], format='%Y-%m-%d')\n",
    "df_market['date'] = pd.to_datetime(df_market['date'], format='%Y-%m-%d')\n",
    "df_price['date'] = pd.to_datetime(df_price['date'], format='%Y-%m-%d')"
   ]
  },
  {
   "cell_type": "code",
   "execution_count": null,
   "id": "03028d82",
   "metadata": {},
   "outputs": [],
   "source": []
  }
 ],
 "metadata": {
  "kernelspec": {
   "display_name": "LDC_Test Kernel",
   "language": "python",
   "name": "ldc_test"
  },
  "language_info": {
   "codemirror_mode": {
    "name": "ipython",
    "version": 3
   },
   "file_extension": ".py",
   "mimetype": "text/x-python",
   "name": "python",
   "nbconvert_exporter": "python",
   "pygments_lexer": "ipython3",
   "version": "3.11.5"
  }
 },
 "nbformat": 4,
 "nbformat_minor": 5
}
